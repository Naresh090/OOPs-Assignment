{
 "cells": [
  {
   "cell_type": "markdown",
   "id": "520fee24",
   "metadata": {},
   "source": [
    "# Challenge-1: Square numbers and return their sums"
   ]
  },
  {
   "cell_type": "code",
   "execution_count": 6,
   "id": "7a12ab68",
   "metadata": {},
   "outputs": [
    {
     "data": {
      "text/plain": [
       "35"
      ]
     },
     "execution_count": 6,
     "metadata": {},
     "output_type": "execute_result"
    }
   ],
   "source": [
    "class Point:\n",
    "    def __init__(self,x,y,z):\n",
    "        self.x=x\n",
    "        self.y=y\n",
    "        self.z=z\n",
    "    def sqsum(self):\n",
    "        square_sum=self.x**2+self.y**2+self.z**2\n",
    "        return square_sum\n",
    "point_1=Point(1, 3, 5)\n",
    "point_1.sqsum()"
   ]
  },
  {
   "cell_type": "markdown",
   "id": "e114af6f",
   "metadata": {},
   "source": [
    "# Challenge-2: Implement a calculator class"
   ]
  },
  {
   "cell_type": "code",
   "execution_count": 14,
   "id": "7bdadf77",
   "metadata": {},
   "outputs": [
    {
     "name": "stdout",
     "output_type": "stream",
     "text": [
      "104\n",
      "84\n",
      "940\n",
      "9.4\n"
     ]
    }
   ],
   "source": [
    "class Calculator:\n",
    "    def __init__(self,num1,num2):\n",
    "        self.num1=num1\n",
    "        self.num2=num2\n",
    "        \n",
    "    def add(self):\n",
    "        Add=self.num1+self.num2\n",
    "        return Add\n",
    "    def sub(self):\n",
    "        Sub=self.num2-self.num1\n",
    "        return Sub\n",
    "    def mul(self):\n",
    "        Mul=self.num1*self.num2\n",
    "        return Mul\n",
    "    def div(self):\n",
    "        Div=self.num2/self.num1\n",
    "        return Div\n",
    "    \n",
    "obj=Calculator(10,94)\n",
    "print(obj.add())\n",
    "print(obj.sub())\n",
    "print(obj.mul())\n",
    "print(obj.div())"
   ]
  },
  {
   "cell_type": "markdown",
   "id": "af50a497",
   "metadata": {},
   "source": [
    "# Challenge-3:Implement the complete student class"
   ]
  },
  {
   "cell_type": "code",
   "execution_count": 13,
   "id": "0f2abcf8",
   "metadata": {},
   "outputs": [
    {
     "name": "stdout",
     "output_type": "stream",
     "text": [
      "Name: Ramu\n",
      "Roll number: 1\n"
     ]
    }
   ],
   "source": [
    "class Student:\n",
    "    def __init__(self):\n",
    "        self.__name=None\n",
    "        self.__rollnumber=None\n",
    "    \n",
    "    def getName(self):\n",
    "        return self.__name\n",
    "    \n",
    "    def setName(self,name):\n",
    "        self.__name=name\n",
    "        \n",
    "    def getRollnumber(self):\n",
    "        return self.__rollnumber\n",
    "    \n",
    "    def setRollnumber(self,rollnumber):\n",
    "        self.__rollnumber=rollnumber\n",
    "student=Student()\n",
    "student.setName(\"Ramu\")\n",
    "student.setRollnumber(1)\n",
    "name=student.getName()\n",
    "rollnumber=student.getRollnumber()\n",
    "print('Name:',name)\n",
    "print('Roll number:', rollnumber)"
   ]
  },
  {
   "cell_type": "markdown",
   "id": "7067c228",
   "metadata": {},
   "source": [
    "# Challenge-4: Implement a Banking Account"
   ]
  },
  {
   "cell_type": "code",
   "execution_count": 15,
   "id": "e0e9d6ec",
   "metadata": {},
   "outputs": [
    {
     "name": "stdout",
     "output_type": "stream",
     "text": [
      "name:Asha balance:5000\n",
      "name:Asha balance:5000 interest:6\n"
     ]
    }
   ],
   "source": [
    "class Account:\n",
    "    def __init__(self,title=None,balance=0):\n",
    "        self.title=title\n",
    "        self.balance=balance\n",
    "    def get_details(self):\n",
    "        print(\"name:{} balance:{}\".format(self.title,self.balance))\n",
    "        \n",
    "class SavingsAccount(Account):\n",
    "    def __init__(self,title,balance,interestrate):\n",
    "        super().__init__(title,balance)\n",
    "        self.interestrate=interestrate\n",
    "    def print_details(self):\n",
    "        print(\"name:{} balance:{} interest:{}\".format(self.title,self.balance,self.interestrate))\n",
    "        \n",
    "account=Account(\"Asha\",5000)\n",
    "account.get_details()\n",
    "account=SavingsAccount(\"Asha\",5000,6)\n",
    "account.print_details()\n"
   ]
  },
  {
   "cell_type": "markdown",
   "id": "9accd522",
   "metadata": {},
   "source": [
    "# Challenge-5: Handling a Bank Account"
   ]
  },
  {
   "cell_type": "code",
   "execution_count": 16,
   "id": "1dd632db",
   "metadata": {},
   "outputs": [
    {
     "name": "stdout",
     "output_type": "stream",
     "text": [
      "2500\n",
      "2000\n",
      "100.0\n"
     ]
    }
   ],
   "source": [
    "class Account:\n",
    "    \n",
    "    def __init__(self,title=None, balance=0):\n",
    "        self.title=title\n",
    "        self.balance=balance\n",
    "    \n",
    "    def withdrawal(self,amount):\n",
    "        self.balance -= amount\n",
    "        \n",
    "    def deposit(self,amount):\n",
    "        self.balance += amount\n",
    "        \n",
    "    def getbalance(self):\n",
    "        return self.balance\n",
    "    \n",
    "class SavingsAccount(Account):\n",
    "    def __init__(self,title=None,balance=0,interestrate=0):\n",
    "        super().__init__(title,balance)\n",
    "        self.interestrate=interestrate\n",
    "        \n",
    "    def interestAmount(self):\n",
    "        interest= (self.balance*self.interestrate)/100\n",
    "        return interest\n",
    "    \n",
    "demo1=SavingsAccount(\"Ashish\",2000,5)\n",
    "#deposit and balance\n",
    "demo1.deposit(500)\n",
    "print(demo1.getbalance())\n",
    "#withdrawal and balance\n",
    "demo1.withdrawal(500)\n",
    "print(demo1.getbalance())\n",
    "#intetrest amount\n",
    "print(demo1.interestAmount())\n"
   ]
  },
  {
   "cell_type": "code",
   "execution_count": null,
   "id": "fd76bdec",
   "metadata": {},
   "outputs": [],
   "source": []
  },
  {
   "cell_type": "code",
   "execution_count": null,
   "id": "6100c938",
   "metadata": {},
   "outputs": [],
   "source": []
  },
  {
   "cell_type": "code",
   "execution_count": null,
   "id": "8c49d156",
   "metadata": {},
   "outputs": [],
   "source": []
  },
  {
   "cell_type": "code",
   "execution_count": null,
   "id": "5d226f68",
   "metadata": {},
   "outputs": [],
   "source": []
  }
 ],
 "metadata": {
  "kernelspec": {
   "display_name": "Python 3 (ipykernel)",
   "language": "python",
   "name": "python3"
  },
  "language_info": {
   "codemirror_mode": {
    "name": "ipython",
    "version": 3
   },
   "file_extension": ".py",
   "mimetype": "text/x-python",
   "name": "python",
   "nbconvert_exporter": "python",
   "pygments_lexer": "ipython3",
   "version": "3.10.9"
  }
 },
 "nbformat": 4,
 "nbformat_minor": 5
}
